{
 "metadata": {
  "language_info": {
   "codemirror_mode": {
    "name": "ipython",
    "version": 3
   },
   "file_extension": ".py",
   "mimetype": "text/x-python",
   "name": "python",
   "nbconvert_exporter": "python",
   "pygments_lexer": "ipython3",
   "version": "3.7.7-final"
  },
  "orig_nbformat": 2,
  "kernelspec": {
   "name": "python3",
   "display_name": "Python 3"
  }
 },
 "nbformat": 4,
 "nbformat_minor": 2,
 "cells": [
  {
   "cell_type": "markdown",
   "metadata": {},
   "source": [
    "# Class concepts and idealogy\n",
    "    >>> Class provide a means for bundling data and functionality together.\n",
    "    >>> Creating a new class creates a new type of object, allowing new instances to be made\n",
    "    >>> alises behave like pointer in some respects\n",
    "    >>> A namespace is a mapping from names to objects. Most namespaces are currently implemented as python dictionaries\n",
    "    >>> Its a naming system to avoid ambiguity \n",
    "    >>> Example of namespaces are: the set of buit-in names (containing functions such as abs(), and built-in exception names), local names, global names, LGEB concept\n",
    "    >>> A scope refers to a region of a progarm where a namespace can be directly accessed, i.e. without using a namespace prefix"
   ]
  },
  {
   "cell_type": "code",
   "execution_count": 3,
   "metadata": {},
   "outputs": [
    {
     "output_type": "stream",
     "text": "\u001b[1;31mSignature:\u001b[0m \u001b[0mrandrange\u001b[0m\u001b[1;33m(\u001b[0m\u001b[0mstart\u001b[0m\u001b[1;33m,\u001b[0m \u001b[0mstop\u001b[0m\u001b[1;33m=\u001b[0m\u001b[1;32mNone\u001b[0m\u001b[1;33m,\u001b[0m \u001b[0mstep\u001b[0m\u001b[1;33m=\u001b[0m\u001b[1;36m1\u001b[0m\u001b[1;33m,\u001b[0m \u001b[0m_int\u001b[0m\u001b[1;33m=\u001b[0m\u001b[1;33m<\u001b[0m\u001b[1;32mclass\u001b[0m \u001b[1;34m'int'\u001b[0m\u001b[1;33m>\u001b[0m\u001b[1;33m)\u001b[0m\u001b[1;33m\u001b[0m\u001b[1;33m\u001b[0m\u001b[0m\n\u001b[1;31mDocstring:\u001b[0m\nChoose a random item from range(start, stop[, step]).\n\nThis fixes the problem with randint() which includes the\nendpoint; in Python this is usually not what you want.\n\u001b[1;31mFile:\u001b[0m      f:\\anaconda\\lib\\random.py\n\u001b[1;31mType:\u001b[0m      method\n"
    }
   ],
   "source": [
    "from random import randrange\n",
    "randrange?"
   ]
  },
  {
   "cell_type": "code",
   "execution_count": 5,
   "metadata": {
    "tags": []
   },
   "outputs": [
    {
     "output_type": "stream",
     "name": "stdout",
     "text": "[12, -8, -10, -10, 8]\n"
    }
   ],
   "source": [
    "from random import randrange \n",
    "x = []\n",
    "for i in range(5):\n",
    "    x.append(randrange(0, 50, 2)-10)\n",
    "print(x)"
   ]
  },
  {
   "cell_type": "code",
   "execution_count": 6,
   "metadata": {
    "tags": []
   },
   "outputs": [
    {
     "output_type": "stream",
     "name": "stdout",
     "text": "None\n"
    }
   ],
   "source": [
    "marks = {\"key\": 12, \"key2\": 3}\n",
    "print(marks.clear())"
   ]
  },
  {
   "cell_type": "code",
   "execution_count": 7,
   "metadata": {},
   "outputs": [
    {
     "output_type": "stream",
     "text": "\u001b[1;31mDocstring:\u001b[0m Clear the terminal.\n\u001b[1;31mFile:\u001b[0m      f:\\anaconda\\lib\\site-packages\\ipykernel\\zmqshell.py\n"
    }
   ],
   "source": [
    "clear?"
   ]
  },
  {
   "cell_type": "code",
   "execution_count": 9,
   "metadata": {
    "tags": []
   },
   "outputs": [
    {
     "output_type": "stream",
     "name": "stdout",
     "text": "GUVI\nGUVI\nGUVI\nGUVI\n"
    }
   ],
   "source": [
    "for _ in range(4):\n",
    "    print(\"GUVI\")"
   ]
  },
  {
   "cell_type": "code",
   "execution_count": 10,
   "metadata": {
    "tags": []
   },
   "outputs": [
    {
     "output_type": "stream",
     "name": "stdout",
     "text": "GuVi\n"
    }
   ],
   "source": [
    "sample=\"gUvI\"\n",
    "print(sample.swapcase())"
   ]
  },
  {
   "cell_type": "code",
   "execution_count": 11,
   "metadata": {},
   "outputs": [
    {
     "output_type": "stream",
     "text": "\u001b[1;31mDocstring:\u001b[0m\niter(iterable) -> iterator\niter(callable, sentinel) -> iterator\n\nGet an iterator from an object.  In the first form, the argument must\nsupply its own iterator, or be a sequence.\nIn the second form, the callable is called until it returns the sentinel.\n\u001b[1;31mType:\u001b[0m      builtin_function_or_method\n"
    }
   ],
   "source": [
    "iter?"
   ]
  },
  {
   "cell_type": "code",
   "execution_count": 12,
   "metadata": {},
   "outputs": [
    {
     "output_type": "stream",
     "text": "\u001b[1;31mDocstring:\u001b[0m\nnext(iterator[, default])\n\nReturn the next item from the iterator. If default is given and the iterator\nis exhausted, it is returned instead of raising StopIteration.\n\u001b[1;31mType:\u001b[0m      builtin_function_or_method\n"
    }
   ],
   "source": [
    "next?"
   ]
  },
  {
   "cell_type": "code",
   "execution_count": 13,
   "metadata": {
    "tags": []
   },
   "outputs": [
    {
     "output_type": "stream",
     "name": "stdout",
     "text": "computer\n"
    }
   ],
   "source": [
    "tup = (\"computer\", \"monitor\", \"cpu\")\n",
    "it = iter(tup)\n",
    "while(print(next(it))):\n",
    "    pass"
   ]
  },
  {
   "cell_type": "code",
   "execution_count": 14,
   "metadata": {
    "tags": []
   },
   "outputs": [
    {
     "output_type": "stream",
     "name": "stdout",
     "text": "m<N\n"
    }
   ],
   "source": [
    "m='a'\n",
    "n='xyx'\n",
    "x= 'm<N' if(m<n) else 'M>n'\n",
    "print(x)"
   ]
  },
  {
   "cell_type": "code",
   "execution_count": 15,
   "metadata": {},
   "outputs": [],
   "source": [
    "def f1():\n",
    "\n",
    "            a=15\n",
    "\n",
    "            b=10\n",
    "\n",
    "            print(\"inside function\")\n",
    "\n",
    "            return a+b  "
   ]
  },
  {
   "cell_type": "code",
   "execution_count": 30,
   "metadata": {},
   "outputs": [],
   "source": [
    "sample = \"guvigeeks\"\n",
    "while x in sample:\n",
    "    print(x, end=\"\")\n",
    "    print(\"test\")"
   ]
  },
  {
   "cell_type": "code",
   "execution_count": 20,
   "metadata": {},
   "outputs": [
    {
     "output_type": "error",
     "ename": "TypeError",
     "evalue": "__init__() missing 1 required positional argument: 'b'",
     "traceback": [
      "\u001b[1;31m---------------------------------------------------------------------------\u001b[0m",
      "\u001b[1;31mTypeError\u001b[0m                                 Traceback (most recent call last)",
      "\u001b[1;32m<ipython-input-20-1127b1726df6>\u001b[0m in \u001b[0;36m<module>\u001b[1;34m\u001b[0m\n\u001b[0;32m      7\u001b[0m         \u001b[0mprint\u001b[0m\u001b[1;33m(\u001b[0m\u001b[1;34m\"bye\"\u001b[0m\u001b[1;33m)\u001b[0m             \u001b[1;31m#line 7\u001b[0m\u001b[1;33m\u001b[0m\u001b[1;33m\u001b[0m\u001b[0m\n\u001b[0;32m      8\u001b[0m \u001b[1;33m\u001b[0m\u001b[0m\n\u001b[1;32m----> 9\u001b[1;33m \u001b[0mm2\u001b[0m\u001b[1;33m=\u001b[0m\u001b[0mmy\u001b[0m\u001b[1;33m(\u001b[0m\u001b[1;36m30\u001b[0m\u001b[1;33m)\u001b[0m                     \u001b[1;31m#line 8\u001b[0m\u001b[1;33m\u001b[0m\u001b[1;33m\u001b[0m\u001b[0m\n\u001b[0m\u001b[0;32m     10\u001b[0m \u001b[0mm1\u001b[0m\u001b[1;33m=\u001b[0m\u001b[0mmy\u001b[0m\u001b[1;33m(\u001b[0m\u001b[1;36m10\u001b[0m\u001b[1;33m,\u001b[0m\u001b[1;36m20\u001b[0m\u001b[1;33m)\u001b[0m\u001b[1;33m\u001b[0m\u001b[1;33m\u001b[0m\u001b[0m\n",
      "\u001b[1;31mTypeError\u001b[0m: __init__() missing 1 required positional argument: 'b'"
     ]
    }
   ],
   "source": [
    "class my:                       #line 1\n",
    "    def __init__(self):       #line 2\n",
    "        print(\"hello\")           #line 3\n",
    "    def __init__(self,a):    #line 4\n",
    "        print(\"hi\")                #line 5\n",
    "    def __init__(self,a,b):  #line 6\n",
    "        print(\"bye\")             #line 7\n",
    "\n",
    "m2=my(30)                     #line 8\n",
    "m1=my(10,20)   "
   ]
  },
  {
   "cell_type": "code",
   "execution_count": 21,
   "metadata": {
    "tags": []
   },
   "outputs": [
    {
     "output_type": "stream",
     "name": "stdout",
     "text": "0\n"
    }
   ],
   "source": [
    "sample = '{0:.2f} {1}'.format(2,1)\n",
    "print(sample[2])"
   ]
  },
  {
   "cell_type": "code",
   "execution_count": 22,
   "metadata": {
    "tags": []
   },
   "outputs": [
    {
     "output_type": "stream",
     "name": "stdout",
     "text": "2\n"
    }
   ],
   "source": [
    "class A:\n",
    "    def __init__(self):\n",
    "        self.i = 1\n",
    "    def m(self):\n",
    "        self.i = 10\n",
    "class B(A):\n",
    "    def m(self):\n",
    "        self.i += 1\n",
    "        return self.i\n",
    "def main():\n",
    "    b = B()\n",
    "    print(b.m())\n",
    "main()"
   ]
  },
  {
   "cell_type": "code",
   "execution_count": 24,
   "metadata": {},
   "outputs": [
    {
     "output_type": "execute_result",
     "data": {
      "text/plain": "int"
     },
     "metadata": {},
     "execution_count": 24
    }
   ],
   "source": [
    "type(_)"
   ]
  },
  {
   "cell_type": "code",
   "execution_count": 27,
   "metadata": {},
   "outputs": [
    {
     "output_type": "execute_result",
     "data": {
      "text/plain": "int"
     },
     "metadata": {},
     "execution_count": 27
    }
   ],
   "source": [
    "type(1)"
   ]
  },
  {
   "cell_type": "code",
   "execution_count": 31,
   "metadata": {},
   "outputs": [],
   "source": [
    "sample = \"banana\"\n",
    "while x in sample:\n",
    "    print(\"test1\")\n"
   ]
  },
  {
   "cell_type": "code",
   "execution_count": 37,
   "metadata": {},
   "outputs": [
    {
     "output_type": "execute_result",
     "data": {
      "text/plain": "6"
     },
     "metadata": {},
     "execution_count": 37
    }
   ],
   "source": [
    "list = [10, 20, 45, 60, 3, 2, 1]\n",
    "list.index(min(list))"
   ]
  },
  {
   "cell_type": "code",
   "execution_count": 38,
   "metadata": {
    "tags": []
   },
   "outputs": [
    {
     "output_type": "stream",
     "name": "stdout",
     "text": "Dealer4\n"
    }
   ],
   "source": [
    "def findMinPriceDealer(n, list1):\n",
    "    minimum = list1.index(min(list1))\n",
    "    print(\"Dealer{}\".format(minimum))\n",
    "findMinPriceDealer(5, [10020, 40004, 4000, 2000, 120])\n"
   ]
  },
  {
   "cell_type": "code",
   "execution_count": 39,
   "metadata": {},
   "outputs": [
    {
     "output_type": "error",
     "ename": "SyntaxError",
     "evalue": "invalid syntax (<ipython-input-39-eab9f1dd9281>, line 6)",
     "traceback": [
      "\u001b[1;36m  File \u001b[1;32m\"<ipython-input-39-eab9f1dd9281>\"\u001b[1;36m, line \u001b[1;32m6\u001b[0m\n\u001b[1;33m    findMinPriceDealer(n, A)\u001b[0m\n\u001b[1;37m                     ^\u001b[0m\n\u001b[1;31mSyntaxError\u001b[0m\u001b[1;31m:\u001b[0m invalid syntax\n"
     ]
    }
   ],
   "source": [
    "n = input(int()\n",
    "A = []\n",
    "def findMinPriceDealer(n, A):\n",
    "    minimum = list1.index(min(A))\n",
    "    print(\"Dealer{}\".format(minimum)\n",
    "findMinPriceDealer(n, A)\n"
   ]
  },
  {
   "cell_type": "code",
   "execution_count": null,
   "metadata": {},
   "outputs": [],
   "source": []
  }
 ]
}