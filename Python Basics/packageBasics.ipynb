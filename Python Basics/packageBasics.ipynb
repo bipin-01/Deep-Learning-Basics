{
 "metadata": {
  "language_info": {
   "codemirror_mode": {
    "name": "ipython",
    "version": 3
   },
   "file_extension": ".py",
   "mimetype": "text/x-python",
   "name": "python",
   "nbconvert_exporter": "python",
   "pygments_lexer": "ipython3",
   "version": "3.7.7-final"
  },
  "orig_nbformat": 2,
  "kernelspec": {
   "name": "python3",
   "display_name": "Python 3"
  }
 },
 "nbformat": 4,
 "nbformat_minor": 2,
 "cells": [
  {
   "cell_type": "code",
   "execution_count": null,
   "metadata": {},
   "outputs": [],
   "source": [
    "# A python module is a file containing Python statements and functions\n",
    "# module grants us reusability of code, as we dont have to write same code again\n",
    "# A package is collection of modules\n",
    "# for example math is a package, containing various modules like sqrt, factorial, sin, cosine method file"
   ]
  },
  {
   "cell_type": "code",
   "execution_count": 6,
   "metadata": {},
   "outputs": [],
   "source": [
    "import time\n",
    "import math                            # importing a package\n",
    "from math import factorial             # importing a specific method from a module\n",
    "from math import *                     # '*' stands for everything indicating from math import everything, know as wildcard character"
   ]
  },
  {
   "cell_type": "code",
   "execution_count": 7,
   "metadata": {
    "tags": []
   },
   "outputs": [
    {
     "output_type": "stream",
     "name": "stdout",
     "text": "3628800\n"
    }
   ],
   "source": [
    "from math import factorial\n",
    "y = factorial(10)\n",
    "print(y)"
   ]
  },
  {
   "cell_type": "code",
   "execution_count": 8,
   "metadata": {
    "tags": []
   },
   "outputs": [
    {
     "output_type": "stream",
     "name": "stdout",
     "text": "3.141592653589793\n"
    }
   ],
   "source": [
    "print(math.pi)"
   ]
  },
  {
   "cell_type": "code",
   "execution_count": 11,
   "metadata": {},
   "outputs": [
    {
     "output_type": "execute_result",
     "data": {
      "text/plain": "['_STRUCT_TM_ITEMS',\n '__doc__',\n '__loader__',\n '__name__',\n '__package__',\n '__spec__',\n 'altzone',\n 'asctime',\n 'clock',\n 'ctime',\n 'daylight',\n 'get_clock_info',\n 'gmtime',\n 'localtime',\n 'mktime',\n 'monotonic',\n 'monotonic_ns',\n 'perf_counter',\n 'perf_counter_ns',\n 'process_time',\n 'process_time_ns',\n 'sleep',\n 'strftime',\n 'strptime',\n 'struct_time',\n 'thread_time',\n 'thread_time_ns',\n 'time',\n 'time_ns',\n 'timezone',\n 'tzname']"
     },
     "metadata": {},
     "execution_count": 11
    }
   ],
   "source": [
    "dir(time)        # the dir() method will help us to check the component of the module or package"
   ]
  },
  {
   "cell_type": "code",
   "execution_count": 12,
   "metadata": {},
   "outputs": [
    {
     "output_type": "execute_result",
     "data": {
      "text/plain": "['__call__',\n '__class__',\n '__delattr__',\n '__dir__',\n '__doc__',\n '__eq__',\n '__format__',\n '__ge__',\n '__getattribute__',\n '__gt__',\n '__hash__',\n '__init__',\n '__init_subclass__',\n '__le__',\n '__lt__',\n '__module__',\n '__name__',\n '__ne__',\n '__new__',\n '__qualname__',\n '__reduce__',\n '__reduce_ex__',\n '__repr__',\n '__self__',\n '__setattr__',\n '__sizeof__',\n '__str__',\n '__subclasshook__',\n '__text_signature__']"
     },
     "metadata": {},
     "execution_count": 12
    }
   ],
   "source": [
    "dir(dir)"
   ]
  },
  {
   "cell_type": "code",
   "execution_count": null,
   "metadata": {},
   "outputs": [],
   "source": []
  }
 ]
}