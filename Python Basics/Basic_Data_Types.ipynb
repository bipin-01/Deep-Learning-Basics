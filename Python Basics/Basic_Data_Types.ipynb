{
  "nbformat": 4,
  "nbformat_minor": 0,
  "metadata": {
    "colab": {
      "name": "Basic_Data_Types.ipynb",
      "provenance": [],
      "collapsed_sections": []
    },
    "kernelspec": {
      "name": "python3",
      "display_name": "Python 3"
    }
  },
  "cells": [
    {
      "cell_type": "code",
      "execution_count": 18,
      "metadata": {},
      "outputs": [],
      "source": [
        "import math"
      ]
    },
    {
      "cell_type": "code",
      "metadata": {
        "id": "_qECgVrscn2t",
        "colab_type": "code",
        "colab": {}
      },
      "source": [
        "name = ' Samsung s9+'"
      ],
      "execution_count": 34,
      "outputs": []
    },
    {
      "cell_type": "code",
      "metadata": {
        "id": "QcE5_HVUdBlb",
        "colab_type": "code",
        "colab": {
          "base_uri": "https://localhost:8080/",
          "height": 34
        },
        "outputId": "c4017071-38e3-4598-be53-ad452f3e87c5"
      },
      "source": [
        "type(name)          # type is used to know the object type in python programming"
      ],
      "execution_count": 35,
      "outputs": [
        {
          "output_type": "execute_result",
          "data": {
            "text/plain": [
              "str"
            ]
          },
          "metadata": {
            "tags": []
          },
          "execution_count": 35
        }
      ]
    },
    {
      "cell_type": "code",
      "metadata": {
        "id": "xl4natn6dUxR",
        "colab_type": "code",
        "colab": {
          "base_uri": "https://localhost:8080/",
          "height": 34
        },
        "outputId": "5292eff3-9221-4dec-c579-676122f31cba"
      },
      "source": [
        "print(name)"
      ],
      "execution_count": 36,
      "outputs": [
        {
          "output_type": "stream",
          "text": [
            " Samsung s9+\n"
          ],
          "name": "stdout"
        }
      ]
    },
    {
      "cell_type": "code",
      "metadata": {
        "id": "4EBgDxV8dXJx",
        "colab_type": "code",
        "colab": {
          "base_uri": "https://localhost:8080/",
          "height": 34
        },
        "outputId": "e6ae7a93-3ed5-414b-e85a-4b8d382ecde1"
      },
      "source": [
        "screen_size = 6.5     # Decimal number or fraction number are termed as float\n",
        "type(screen_size)"
      ],
      "execution_count": 37,
      "outputs": [
        {
          "output_type": "execute_result",
          "data": {
            "text/plain": [
              "float"
            ]
          },
          "metadata": {
            "tags": []
          },
          "execution_count": 37
        }
      ]
    },
    {
      "cell_type": "code",
      "metadata": {
        "id": "L4BVikNsdjyZ",
        "colab_type": "code",
        "colab": {
          "base_uri": "https://localhost:8080/",
          "height": 34
        },
        "outputId": "f6bc1e73-ac5c-44d1-89e0-3444ca3d00c3"
      },
      "source": [
        "num_of_speaker = 2      # I preferably defined int as an pure number, no. without any decimal\n",
        "type(num_of_speaker)    "
      ],
      "execution_count": 38,
      "outputs": [
        {
          "output_type": "execute_result",
          "data": {
            "text/plain": [
              "int"
            ]
          },
          "metadata": {
            "tags": []
          },
          "execution_count": 38
        }
      ]
    },
    {
      "cell_type": "code",
      "metadata": {
        "id": "iPjr1vD2eiMX",
        "colab_type": "code",
        "colab": {},
        "tags": []
      },
      "source": [
        "val1 = -354\n",
        "print(abs(val1))                                  #absolute value or magnitude of val1"
      ],
      "execution_count": 7,
      "outputs": [
        {
          "output_type": "stream",
          "name": "stdout",
          "text": "354\n"
        }
      ]
    },
    {
      "cell_type": "markdown",
      "metadata": {
        "id": "pAdWMXrJfNgp",
        "colab_type": "text"
      },
      "source": [
        "# More on Data Types"
      ]
    },
    {
      "cell_type": "code",
      "metadata": {
        "id": "iXFeet6LeMg4",
        "colab_type": "code",
        "colab": {
          "base_uri": "https://localhost:8080/",
          "height": 34
        },
        "outputId": "77476942-1e0e-4cb3-f426-f4a11df7a8d8"
      },
      "source": [
        "print(\"I have just bought an \" + name)          #Mergin it with print statement"
      ],
      "execution_count": 39,
      "outputs": [
        {
          "output_type": "stream",
          "text": [
            "I have just bought an  Samsung s9+\n"
          ],
          "name": "stdout"
        }
      ]
    },
    {
      "cell_type": "code",
      "metadata": {
        "id": "spH12ahSfGAg",
        "colab_type": "code",
        "colab": {
          "base_uri": "https://localhost:8080/",
          "height": 34
        },
        "outputId": "9fd42de6-c192-4339-8527-eb1e6fe6ae82"
      },
      "source": [
        "#Performing the basic arithmetic operation\n",
        "\n",
        "a = 3            # a**b is the exponent or so called power operator, where a**b is read as a to the power b\n",
        "b = 2            # % is the modulus or remainder operator, and returns the remainder after a number is divided by right part of the operand\n",
        "print(a+b, a/b, a+b, a**b, a%b, a//b)            # is the floor value"
      ],
      "execution_count": 40,
      "outputs": [
        {
          "output_type": "stream",
          "text": [
            "5 1.5 5 9 1 1\n"
          ],
          "name": "stdout"
        }
      ]
    },
    {
      "cell_type": "code",
      "metadata": {
        "id": "YTW8ta8Efs-L",
        "colab_type": "code",
        "colab": {
          "base_uri": "https://localhost:8080/",
          "height": 34
        },
        "outputId": "ceeda277-5d2c-4f58-cd2d-74419149f637"
      },
      "source": [
        "is_ios = False      # boolean is another data type in python usually with two default value True and False \n",
        "type(is_ios)        # True denotes high and False denote low in various programming and electrical concept"
      ],
      "execution_count": 41,
      "outputs": [
        {
          "output_type": "execute_result",
          "data": {
            "text/plain": [
              "bool"
            ]
          },
          "metadata": {
            "tags": []
          },
          "execution_count": 41
        }
      ]
    },
    {
      "cell_type": "code",
      "metadata": {
        "id": "zg0ZlE44hBB5",
        "colab_type": "code",
        "colab": {
          "base_uri": "https://localhost:8080/",
          "height": 34
        },
        "outputId": "779f9c1c-0e52-4d5e-e8a4-2a92d4aa4d99"
      },
      "source": [
        "print(is_ios == True)"
      ],
      "execution_count": 42,
      "outputs": [
        {
          "output_type": "stream",
          "text": [
            "False\n"
          ],
          "name": "stdout"
        }
      ]
    },
    {
      "cell_type": "code",
      "metadata": {
        "id": "V9E7asQBhy11",
        "colab_type": "code",
        "colab": {
          "base_uri": "https://localhost:8080/",
          "height": 34
        },
        "outputId": "a8ae8681-3a60-4abb-8339-1c3dee6e4c76"
      },
      "source": [
        "if is_ios == True:\n",
        "  print(name + 'supports ios')\n",
        "  print(\"This was just a joke this block will not be execute\")\n",
        "print(\"Printing outside the block\")"
      ],
      "execution_count": 43,
      "outputs": [
        {
          "output_type": "stream",
          "text": [
            "Printing outside the block\n"
          ],
          "name": "stdout"
        }
      ]
    },
    {
      "cell_type": "code",
      "metadata": {
        "id": "KnUeT8WXiPjf",
        "colab_type": "code",
        "colab": {
          "base_uri": "https://localhost:8080/",
          "height": 101
        },
        "outputId": "db6a59b4-ff96-4eab-fa3a-1290837a3209"
      },
      "source": [
        "for i in range(5):              #range is an exclusive and do not include the last value as index start from 0\n",
        "  print(i, i*i)"
      ],
      "execution_count": 44,
      "outputs": [
        {
          "output_type": "stream",
          "text": [
            "0 0\n",
            "1 1\n",
            "2 4\n",
            "3 9\n",
            "4 16\n"
          ],
          "name": "stdout"
        }
      ]
    },
    {
      "cell_type": "code",
      "metadata": {
        "id": "sNl-SF6giwFl",
        "colab_type": "code",
        "colab": {}
      },
      "source": [
        "range?"
      ],
      "execution_count": 29,
      "outputs": []
    },
    {
      "cell_type": "code",
      "metadata": {
        "id": "biKKq_vei9hv",
        "colab_type": "code",
        "colab": {
          "base_uri": "https://localhost:8080/",
          "height": 34
        },
        "outputId": "6997d6b2-7ef3-43ec-8a58-bd06afe47e0d"
      },
      "source": [
        "print(is_ios == False and num_of_speaker>2)"
      ],
      "execution_count": 47,
      "outputs": [
        {
          "output_type": "stream",
          "text": [
            "False\n"
          ],
          "name": "stdout"
        }
      ]
    },
    {
      "cell_type": "code",
      "metadata": {
        "id": "VPPYanHU663v",
        "colab_type": "code",
        "colab": {
          "base_uri": "https://localhost:8080/",
          "height": 101
        },
        "outputId": "a969c4e1-c58b-4ae5-a747-aba6ac74c8e4"
      },
      "source": [
        "i = 0\n",
        "while i <5:\n",
        "  print(i, i*i)\n",
        "  i +=1               #This is equivalent to i = i + 1\n"
      ],
      "execution_count": 48,
      "outputs": [
        {
          "output_type": "stream",
          "text": [
            "0 0\n",
            "1 1\n",
            "2 4\n",
            "3 9\n",
            "4 16\n"
          ],
          "name": "stdout"
        }
      ]
    },
    {
      "cell_type": "code",
      "metadata": {
        "id": "ylkeMHax8x8J",
        "colab_type": "code",
        "colab": {}
      },
      "source": [
        "def print_square(stop_val):\n",
        "  for i in range(stop_val):\n",
        "    print(i, i**2)"
      ],
      "execution_count": 49,
      "outputs": []
    },
    {
      "cell_type": "code",
      "metadata": {
        "id": "YP0xJGQ29S5d",
        "colab_type": "code",
        "colab": {
          "base_uri": "https://localhost:8080/",
          "height": 101
        },
        "outputId": "e31d45b5-53c4-4f4c-bdc2-bab0d65c547d"
      },
      "source": [
        "print_square(5)"
      ],
      "execution_count": 51,
      "outputs": [
        {
          "output_type": "stream",
          "text": [
            "0 0\n",
            "1 1\n",
            "2 4\n",
            "3 9\n",
            "4 16\n"
          ],
          "name": "stdout"
        }
      ]
    },
    {
      "cell_type": "code",
      "metadata": {
        "id": "5g3G2azQ9V8D",
        "colab_type": "code",
        "colab": {
          "base_uri": "https://localhost:8080/",
          "height": 34
        },
        "outputId": "c1f001d0-093b-4469-d3c4-6a9dd1f08cab"
      },
      "source": [
        "def sum_of_square(stop_val):\n",
        "  sum = 0\n",
        "  for i in range(stop_val):\n",
        "    sum += i ** 2\n",
        "  return sum\n",
        "sum_of_square(5)"
      ],
      "execution_count": 65,
      "outputs": [
        {
          "output_type": "execute_result",
          "data": {
            "text/plain": [
              "30"
            ]
          },
          "metadata": {
            "tags": []
          },
          "execution_count": 65
        }
      ]
    },
    {
      "cell_type": "code",
      "metadata": {
        "id": "zRjhYGo7Mu-7",
        "colab_type": "code",
        "colab": {
          "base_uri": "https://localhost:8080/",
          "height": 67
        },
        "outputId": "3b9a0078-71c0-41b7-cc15-c7835edd2d6e"
      },
      "source": [
        "def print_square_with_startval(stop_val, start_val=0):\n",
        "  \"\"\" Prints the square of a number starting from start_val(inclusive) and ending with stop_val(exclusive) \"\"\"\n",
        "  for i in range(start_val, stop_val):\n",
        "    print(i, i**2)\n",
        "\n",
        "print_square_with_startval(5, 2)\n"
      ],
      "execution_count": 68,
      "outputs": [
        {
          "output_type": "stream",
          "text": [
            "2 4\n",
            "3 9\n",
            "4 16\n"
          ],
          "name": "stdout"
        }
      ]
    },
    {
      "cell_type": "code",
      "metadata": {
        "id": "UfKF72HG94Oz",
        "colab_type": "code",
        "colab": {}
      },
      "source": [
        "print_square_with_startval?     #This is the help structure format"
      ],
      "execution_count": 69,
      "outputs": []
    },
    {
      "cell_type": "markdown",
      "metadata": {
        "colab": {},
        "colab_type": "code",
        "id": "EOxA-ds3P3iq"
      },
      "source": [
        "# Adding further more concept on Data Types\n",
        "Practical Implementation of Numeric Data Types (int, float, complex)"
      ]
    },
    {
      "cell_type": "code",
      "execution_count": 5,
      "metadata": {
        "tags": []
      },
      "outputs": [
        {
          "output_type": "stream",
          "name": "stdout",
          "text": "Octal 0017 =  15 \nBinary 1110010 =  114 \nHexa 1c2 =  450\n"
        }
      ],
      "source": [
        "# Program to convert number from octal, binary and hexadecimal system into deciamal number system\n",
        "n1 = 0o17\n",
        "n2 = 0B1110010\n",
        "n3 = 0X1c2\n",
        "\n",
        "n1_new = int(n1)\n",
        "n2_new = int(n2)\n",
        "n3_new = int(n3)\n",
        "print(\"Octal 0017 = \", n1,\n",
        "       \"\\nBinary 1110010 = \", n2,\n",
        "       \"\\nHexa 1c2 = \", n3)"
      ]
    },
    {
      "cell_type": "markdown",
      "metadata": {},
      "source": [
        "### More example of number format conversion"
      ]
    },
    {
      "cell_type": "code",
      "execution_count": 7,
      "metadata": {
        "tags": []
      },
      "outputs": [
        {
          "output_type": "stream",
          "name": "stdout",
          "text": "15\n"
        }
      ],
      "source": [
        "# int(x) is used to convert the number x into int type as we have seen above\n",
        "\n",
        "x = 15.677               #here x is a floating point\n",
        "x_int  = int(x)\n",
        "print(x_int)           #So, the floating point is converted to integer format"
      ]
    },
    {
      "cell_type": "code",
      "execution_count": 10,
      "metadata": {
        "tags": []
      },
      "outputs": [
        {
          "output_type": "stream",
          "name": "stdout",
          "text": "15.0 \n (15+0j)\n"
        }
      ],
      "source": [
        "#similarly we can use float(x), complex(x)  to convert to respetice numeric data type\n",
        "\n",
        "num = 15\n",
        "print(float(num),\"\\n\",complex(num))\n",
        "\n"
      ]
    },
    {
      "cell_type": "markdown",
      "metadata": {},
      "source": [
        "### Moving to Bool Data Types\n",
        "Representation of boolean value, includes True or false"
      ]
    },
    {
      "cell_type": "code",
      "execution_count": 12,
      "metadata": {
        "tags": []
      },
      "outputs": [
        {
          "output_type": "stream",
          "name": "stdout",
          "text": "True\nFalse\n"
        }
      ],
      "source": [
        "a = 10\n",
        "b = 20\n",
        "print(a<b)\n",
        "print(a>b)"
      ]
    },
    {
      "cell_type": "code",
      "execution_count": 13,
      "metadata": {
        "tags": []
      },
      "outputs": [
        {
          "output_type": "stream",
          "name": "stdout",
          "text": "True\n"
        }
      ],
      "source": [
        "a = 10 > 5          # here now 'a' is treated as bool type as it indicates the bool logic\n",
        "print(a)"
      ]
    },
    {
      "cell_type": "markdown",
      "metadata": {},
      "source": [
        "### Moving towards the sequence in Python\n",
        "Generally seqence represent group of elements or items\n"
      ]
    },
    {
      "cell_type": "markdown",
      "metadata": {},
      "source": [
        "# knowing about the  $\\STRING$ sequence type"
      ]
    },
    {
      "cell_type": "code",
      "execution_count": 18,
      "metadata": {
        "tags": []
      },
      "outputs": [
        {
          "output_type": "stream",
          "name": "stdout",
          "text": "Hello\nThis is the format to write the \nstring in multi line for easiness in reading a long paragraph \n"
        }
      ],
      "source": [
        "#  To conceptualize string are nothing but a sequence of characters\n",
        "myString = \"Hello\"\n",
        "myString2 = \"\"\"This is the format to write the \n",
        "string in multi line for easiness in reading a long paragraph \"\"\"\n",
        "\n",
        "print(myString)\n",
        "print(myString2)"
      ]
    },
    {
      "cell_type": "code",
      "execution_count": 21,
      "metadata": {
        "tags": []
      },
      "outputs": [
        {
          "output_type": "stream",
          "name": "stdout",
          "text": "B\na\nn\na\nn\na\n"
        }
      ],
      "source": [
        "# The basic concept I would like to add,\n",
        "# Print without a newline\n",
        "for i in \"Banana\":\n",
        "    print(i)"
      ]
    },
    {
      "cell_type": "code",
      "execution_count": 22,
      "metadata": {
        "tags": []
      },
      "outputs": [
        {
          "output_type": "stream",
          "name": "stdout",
          "text": "Banana"
        }
      ],
      "source": [
        "for i in \"Banana\":\n",
        "    print(i, end=\"\")"
      ]
    },
    {
      "cell_type": "markdown",
      "metadata": {},
      "source": [
        "# Knowing the $\\Byte$ sequence Data Type"
      ]
    },
    {
      "cell_type": "code",
      "execution_count": 2,
      "metadata": {},
      "outputs": [
        {
          "output_type": "stream",
          "text": "\u001b[1;31mInit signature:\u001b[0m \u001b[0mbytes\u001b[0m\u001b[1;33m(\u001b[0m\u001b[0mself\u001b[0m\u001b[1;33m,\u001b[0m \u001b[1;33m/\u001b[0m\u001b[1;33m,\u001b[0m \u001b[1;33m*\u001b[0m\u001b[0margs\u001b[0m\u001b[1;33m,\u001b[0m \u001b[1;33m**\u001b[0m\u001b[0mkwargs\u001b[0m\u001b[1;33m)\u001b[0m\u001b[1;33m\u001b[0m\u001b[1;33m\u001b[0m\u001b[0m\n\u001b[1;31mDocstring:\u001b[0m     \nbytes(iterable_of_ints) -> bytes\nbytes(string, encoding[, errors]) -> bytes\nbytes(bytes_or_buffer) -> immutable copy of bytes_or_buffer\nbytes(int) -> bytes object of size given by the parameter initialized with null bytes\nbytes() -> empty bytes object\n\nConstruct an immutable array of bytes from:\n  - an iterable yielding integers in range(256)\n  - a text string encoded using the specified encoding\n  - any object implementing the buffer API.\n  - an integer\n\u001b[1;31mType:\u001b[0m           type\n\u001b[1;31mSubclasses:\u001b[0m     \n"
        }
      ],
      "source": [
        "bytes?"
      ]
    },
    {
      "cell_type": "code",
      "execution_count": 4,
      "metadata": {},
      "outputs": [
        {
          "output_type": "execute_result",
          "data": {
            "text/plain": "str"
          },
          "metadata": {},
          "execution_count": 4
        }
      ],
      "source": [
        "u = \"Python\"\n",
        "type(u)                                                     #quick tips there are eight comparision operator in Python"
      ]
    },
    {
      "cell_type": "code",
      "execution_count": 5,
      "metadata": {},
      "outputs": [
        {
          "output_type": "execute_result",
          "data": {
            "text/plain": "bytes"
          },
          "metadata": {},
          "execution_count": 5
        }
      ],
      "source": [
        "v = b\"Python\"\n",
        "type(v)"
      ]
    },
    {
      "cell_type": "code",
      "execution_count": 6,
      "metadata": {
        "tags": []
      },
      "outputs": [
        {
          "output_type": "stream",
          "name": "stdout",
          "text": "b'Bytes object are immutable sequence of single bytes'\n"
        }
      ],
      "source": [
        "x =  b\"Bytes object are immutable sequence of single bytes\"\n",
        "print(x)"
      ]
    },
    {
      "cell_type": "markdown",
      "metadata": {},
      "source": [
        "# More Practice on the related Topic\n",
        "Practicing the concepts and core exception part"
      ]
    },
    {
      "cell_type": "code",
      "execution_count": 12,
      "metadata": {
        "tags": []
      },
      "outputs": [
        {
          "output_type": "stream",
          "name": "stdout",
          "text": "(45-7j)\n(45+7j)\n"
        }
      ],
      "source": [
        "z = complex(45, -7)\n",
        "print(z)\n",
        "print(z.conjugate())"
      ]
    },
    {
      "cell_type": "code",
      "execution_count": 13,
      "metadata": {},
      "outputs": [
        {
          "output_type": "execute_result",
          "data": {
            "text/plain": "(15.0, 0.0)"
          },
          "metadata": {},
          "execution_count": 13
        }
      ],
      "source": [
        "x_val = 45\n",
        "y_val = 3.0\n",
        "divmod(x_val, y_val)                           # the pair (x//y, x%y)"
      ]
    },
    {
      "cell_type": "code",
      "execution_count": 19,
      "metadata": {},
      "outputs": [
        {
          "output_type": "execute_result",
          "data": {
            "text/plain": "3"
          },
          "metadata": {},
          "execution_count": 19
        }
      ],
      "source": [
        "math.trunc(y_val)                   #the parameter is truncated to integer"
      ]
    },
    {
      "cell_type": "code",
      "execution_count": 20,
      "metadata": {},
      "outputs": [
        {
          "output_type": "execute_result",
          "data": {
            "text/plain": "3.14159"
          },
          "metadata": {},
          "execution_count": 20
        }
      ],
      "source": [
        "from math import pi\n",
        "round(pi, 5)"
      ]
    },
    {
      "cell_type": "code",
      "execution_count": 23,
      "metadata": {
        "tags": []
      },
      "outputs": [
        {
          "output_type": "stream",
          "name": "stdout",
          "text": "3\n"
        },
        {
          "output_type": "execute_result",
          "data": {
            "text/plain": "3"
          },
          "metadata": {},
          "execution_count": 23
        }
      ],
      "source": [
        "print(math.floor(3.576))                 #rounds to the base integral value\n",
        "math.floor(3.24)"
      ]
    },
    {
      "cell_type": "code",
      "execution_count": 24,
      "metadata": {},
      "outputs": [
        {
          "output_type": "execute_result",
          "data": {
            "text/plain": "4"
          },
          "metadata": {},
          "execution_count": 24
        }
      ],
      "source": [
        "math.ceil(3.2)             #ROUNDS to the next highest integral"
      ]
    },
    {
      "cell_type": "markdown",
      "metadata": {},
      "source": [
        "# $\\Bit_String$ Opertions on Integer Types"
      ]
    },
    {
      "cell_type": "markdown",
      "metadata": {},
      "source": [
        "#### Bit Manipulation"
      ]
    },
    {
      "cell_type": "code",
      "execution_count": 29,
      "metadata": {},
      "outputs": [
        {
          "output_type": "execute_result",
          "data": {
            "text/plain": "45"
          },
          "metadata": {},
          "execution_count": 29
        }
      ],
      "source": [
        "int('45',base=10)            # the first argument should be of type string"
      ]
    },
    {
      "cell_type": "code",
      "execution_count": 30,
      "metadata": {},
      "outputs": [
        {
          "output_type": "execute_result",
          "data": {
            "text/plain": "171"
          },
          "metadata": {},
          "execution_count": 30
        }
      ],
      "source": [
        "int('0010101011', 2)        # converts argumented string of 2 number base system to a corresponding int value"
      ]
    },
    {
      "cell_type": "code",
      "execution_count": 31,
      "metadata": {},
      "outputs": [
        {
          "output_type": "execute_result",
          "data": {
            "text/plain": "0"
          },
          "metadata": {},
          "execution_count": 31
        }
      ],
      "source": [
        "a = 4                                #The bit-wise  AND operation\n",
        "b = 10                               # First the conversion takes place to binary bits and then comparision takes place\n",
        "a & b"
      ]
    },
    {
      "cell_type": "code",
      "execution_count": 32,
      "metadata": {},
      "outputs": [
        {
          "output_type": "execute_result",
          "data": {
            "text/plain": "14"
          },
          "metadata": {},
          "execution_count": 32
        }
      ],
      "source": [
        "a | b                               # The bit-wise OR operation"
      ]
    },
    {
      "cell_type": "code",
      "execution_count": 33,
      "metadata": {},
      "outputs": [
        {
          "output_type": "execute_result",
          "data": {
            "text/plain": "14"
          },
          "metadata": {},
          "execution_count": 33
        }
      ],
      "source": [
        "a ^ b                               # The exclusive OR operation"
      ]
    },
    {
      "cell_type": "code",
      "execution_count": 35,
      "metadata": {},
      "outputs": [
        {
          "output_type": "execute_result",
          "data": {
            "text/plain": "tuple"
          },
          "metadata": {},
          "execution_count": 35
        }
      ],
      "source": [
        "type((a,))\n",
        "\n",
        "\n"
      ]
    },
    {
      "cell_type": "code",
      "execution_count": 1,
      "metadata": {},
      "outputs": [
        {
          "output_type": "execute_result",
          "data": {
            "text/plain": "170"
          },
          "metadata": {},
          "execution_count": 1
        }
      ],
      "source": [
        "85<<1"
      ]
    },
    {
      "cell_type": "code",
      "execution_count": 2,
      "metadata": {},
      "outputs": [
        {
          "output_type": "execute_result",
          "data": {
            "text/plain": "255"
          },
          "metadata": {},
          "execution_count": 2
        }
      ],
      "source": [
        "85^170"
      ]
    },
    {
      "cell_type": "code",
      "execution_count": 5,
      "metadata": {},
      "outputs": [
        {
          "output_type": "execute_result",
          "data": {
            "text/plain": "'0b1010101'"
          },
          "metadata": {},
          "execution_count": 5
        }
      ],
      "source": [
        "bin(85)"
      ]
    },
    {
      "cell_type": "code",
      "execution_count": 6,
      "metadata": {},
      "outputs": [
        {
          "output_type": "execute_result",
          "data": {
            "text/plain": "'0b11111111'"
          },
          "metadata": {},
          "execution_count": 6
        }
      ],
      "source": [
        "bin(255)"
      ]
    },
    {
      "cell_type": "code",
      "execution_count": 7,
      "metadata": {},
      "outputs": [
        {
          "output_type": "execute_result",
          "data": {
            "text/plain": "1"
          },
          "metadata": {},
          "execution_count": 7
        }
      ],
      "source": [
        "1%2"
      ]
    },
    {
      "cell_type": "code",
      "execution_count": 8,
      "metadata": {},
      "outputs": [
        {
          "output_type": "execute_result",
          "data": {
            "text/plain": "0"
          },
          "metadata": {},
          "execution_count": 8
        }
      ],
      "source": [
        "int(1/2)"
      ]
    },
    {
      "cell_type": "code",
      "execution_count": 9,
      "metadata": {},
      "outputs": [
        {
          "output_type": "execute_result",
          "data": {
            "text/plain": "'0x7a'"
          },
          "metadata": {},
          "execution_count": 9
        }
      ],
      "source": [
        "hex(122)"
      ]
    },
    {
      "cell_type": "code",
      "execution_count": 10,
      "metadata": {},
      "outputs": [
        {
          "output_type": "execute_result",
          "data": {
            "text/plain": "'0o11'"
          },
          "metadata": {},
          "execution_count": 10
        }
      ],
      "source": [
        "oct(9)"
      ]
    },
    {
      "cell_type": "code",
      "execution_count": 13,
      "metadata": {},
      "outputs": [
        {
          "output_type": "execute_result",
          "data": {
            "text/plain": "'0b101100'"
          },
          "metadata": {},
          "execution_count": 13
        }
      ],
      "source": [
        "bin(44)\n",
        "\n"
      ]
    },
    {
      "cell_type": "code",
      "execution_count": 17,
      "metadata": {},
      "outputs": [
        {
          "output_type": "execute_result",
          "data": {
            "text/plain": "16"
          },
          "metadata": {},
          "execution_count": 17
        }
      ],
      "source": [
        "1<<4"
      ]
    },
    {
      "cell_type": "code",
      "execution_count": 18,
      "metadata": {},
      "outputs": [
        {
          "output_type": "execute_result",
          "data": {
            "text/plain": "0"
          },
          "metadata": {},
          "execution_count": 18
        }
      ],
      "source": [
        "16&4"
      ]
    },
    {
      "cell_type": "code",
      "execution_count": 20,
      "metadata": {},
      "outputs": [
        {
          "output_type": "execute_result",
          "data": {
            "text/plain": "0"
          },
          "metadata": {},
          "execution_count": 20
        }
      ],
      "source": [
        "16&44"
      ]
    },
    {
      "cell_type": "code",
      "execution_count": 21,
      "metadata": {},
      "outputs": [
        {
          "output_type": "execute_result",
          "data": {
            "text/plain": "8"
          },
          "metadata": {},
          "execution_count": 21
        }
      ],
      "source": [
        "1<<3"
      ]
    },
    {
      "cell_type": "code",
      "execution_count": 22,
      "metadata": {},
      "outputs": [
        {
          "output_type": "execute_result",
          "data": {
            "text/plain": "8"
          },
          "metadata": {},
          "execution_count": 22
        }
      ],
      "source": [
        "8&44"
      ]
    },
    {
      "cell_type": "code",
      "execution_count": 27,
      "metadata": {
        "tags": []
      },
      "outputs": [
        {
          "output_type": "stream",
          "name": "stdout",
          "text": "7 18 14\n"
        }
      ],
      "source": [
        "a = 5\n",
        "b=4\n",
        "c=3\n",
        "a = b+c\n",
        "c = a-b\n",
        "c = c+a\n",
        "c=b+c\n",
        "b = b+c\n",
        "print(a, b, c)"
      ]
    },
    {
      "cell_type": "code",
      "execution_count": null,
      "metadata": {},
      "outputs": [],
      "source": []
    }
  ]
}