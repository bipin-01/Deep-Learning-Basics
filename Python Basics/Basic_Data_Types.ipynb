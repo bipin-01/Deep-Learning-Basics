{
  "nbformat": 4,
  "nbformat_minor": 0,
  "metadata": {
    "colab": {
      "name": "Basic_Data_Types.ipynb",
      "provenance": [],
      "collapsed_sections": []
    },
    "kernelspec": {
      "name": "python3",
      "display_name": "Python 3"
    }
  },
  "cells": [
    {
      "cell_type": "code",
      "metadata": {
        "id": "_qECgVrscn2t",
        "colab_type": "code",
        "colab": {}
      },
      "source": [
        "name = ' Samsung s9+'"
      ],
      "execution_count": 34,
      "outputs": []
    },
    {
      "cell_type": "code",
      "metadata": {
        "id": "QcE5_HVUdBlb",
        "colab_type": "code",
        "colab": {
          "base_uri": "https://localhost:8080/",
          "height": 34
        },
        "outputId": "c4017071-38e3-4598-be53-ad452f3e87c5"
      },
      "source": [
        "type(name)          # type is used to know the object type in python programming"
      ],
      "execution_count": 35,
      "outputs": [
        {
          "output_type": "execute_result",
          "data": {
            "text/plain": [
              "str"
            ]
          },
          "metadata": {
            "tags": []
          },
          "execution_count": 35
        }
      ]
    },
    {
      "cell_type": "code",
      "metadata": {
        "id": "xl4natn6dUxR",
        "colab_type": "code",
        "colab": {
          "base_uri": "https://localhost:8080/",
          "height": 34
        },
        "outputId": "5292eff3-9221-4dec-c579-676122f31cba"
      },
      "source": [
        "print(name)"
      ],
      "execution_count": 36,
      "outputs": [
        {
          "output_type": "stream",
          "text": [
            " Samsung s9+\n"
          ],
          "name": "stdout"
        }
      ]
    },
    {
      "cell_type": "code",
      "metadata": {
        "id": "4EBgDxV8dXJx",
        "colab_type": "code",
        "colab": {
          "base_uri": "https://localhost:8080/",
          "height": 34
        },
        "outputId": "e6ae7a93-3ed5-414b-e85a-4b8d382ecde1"
      },
      "source": [
        "screen_size = 6.5     # Decimal number or fraction number are termed as float\n",
        "type(screen_size)"
      ],
      "execution_count": 37,
      "outputs": [
        {
          "output_type": "execute_result",
          "data": {
            "text/plain": [
              "float"
            ]
          },
          "metadata": {
            "tags": []
          },
          "execution_count": 37
        }
      ]
    },
    {
      "cell_type": "code",
      "metadata": {
        "id": "L4BVikNsdjyZ",
        "colab_type": "code",
        "colab": {
          "base_uri": "https://localhost:8080/",
          "height": 34
        },
        "outputId": "f6bc1e73-ac5c-44d1-89e0-3444ca3d00c3"
      },
      "source": [
        "num_of_speaker = 2      # I preferably defined int as an pure number, no. without any decimal\n",
        "type(num_of_speaker)    "
      ],
      "execution_count": 38,
      "outputs": [
        {
          "output_type": "execute_result",
          "data": {
            "text/plain": [
              "int"
            ]
          },
          "metadata": {
            "tags": []
          },
          "execution_count": 38
        }
      ]
    },
    {
      "cell_type": "code",
      "metadata": {
        "id": "iPjr1vD2eiMX",
        "colab_type": "code",
        "colab": {}
      },
      "source": [
        ""
      ],
      "execution_count": null,
      "outputs": []
    },
    {
      "cell_type": "markdown",
      "metadata": {
        "id": "pAdWMXrJfNgp",
        "colab_type": "text"
      },
      "source": [
        "# Playing with Data Types"
      ]
    },
    {
      "cell_type": "code",
      "metadata": {
        "id": "iXFeet6LeMg4",
        "colab_type": "code",
        "colab": {
          "base_uri": "https://localhost:8080/",
          "height": 34
        },
        "outputId": "77476942-1e0e-4cb3-f426-f4a11df7a8d8"
      },
      "source": [
        "print(\"I have just bought an \" + name)          #Mergin it with print statement"
      ],
      "execution_count": 39,
      "outputs": [
        {
          "output_type": "stream",
          "text": [
            "I have just bought an  Samsung s9+\n"
          ],
          "name": "stdout"
        }
      ]
    },
    {
      "cell_type": "code",
      "metadata": {
        "id": "spH12ahSfGAg",
        "colab_type": "code",
        "colab": {
          "base_uri": "https://localhost:8080/",
          "height": 34
        },
        "outputId": "9fd42de6-c192-4339-8527-eb1e6fe6ae82"
      },
      "source": [
        "#Performing the basic arithmetic operation\n",
        "\n",
        "a = 3            # a**b is the exponent or so called power operator, where a**b is read as a to the power b\n",
        "b = 2            # % is the modulus or remainder operator, and returns the remainder after a number is divided by right part of the operand\n",
        "print(a+b, a/b, a+b, a**b, a%b, a//b)            # is the floor value"
      ],
      "execution_count": 40,
      "outputs": [
        {
          "output_type": "stream",
          "text": [
            "5 1.5 5 9 1 1\n"
          ],
          "name": "stdout"
        }
      ]
    },
    {
      "cell_type": "code",
      "metadata": {
        "id": "YTW8ta8Efs-L",
        "colab_type": "code",
        "colab": {
          "base_uri": "https://localhost:8080/",
          "height": 34
        },
        "outputId": "ceeda277-5d2c-4f58-cd2d-74419149f637"
      },
      "source": [
        "is_ios = False      # boolean is another data type in python usually with two default value True and False \n",
        "type(is_ios)        # True denotes high and False denote low in various programming and electrical concept"
      ],
      "execution_count": 41,
      "outputs": [
        {
          "output_type": "execute_result",
          "data": {
            "text/plain": [
              "bool"
            ]
          },
          "metadata": {
            "tags": []
          },
          "execution_count": 41
        }
      ]
    },
    {
      "cell_type": "code",
      "metadata": {
        "id": "zg0ZlE44hBB5",
        "colab_type": "code",
        "colab": {
          "base_uri": "https://localhost:8080/",
          "height": 34
        },
        "outputId": "779f9c1c-0e52-4d5e-e8a4-2a92d4aa4d99"
      },
      "source": [
        "print(is_ios == True)"
      ],
      "execution_count": 42,
      "outputs": [
        {
          "output_type": "stream",
          "text": [
            "False\n"
          ],
          "name": "stdout"
        }
      ]
    },
    {
      "cell_type": "code",
      "metadata": {
        "id": "V9E7asQBhy11",
        "colab_type": "code",
        "colab": {
          "base_uri": "https://localhost:8080/",
          "height": 34
        },
        "outputId": "a8ae8681-3a60-4abb-8339-1c3dee6e4c76"
      },
      "source": [
        "if is_ios == True:\n",
        "  print(name + 'supports ios')\n",
        "  print(\"This was just a joke this block will not be execute\")\n",
        "print(\"Printing outside the block\")"
      ],
      "execution_count": 43,
      "outputs": [
        {
          "output_type": "stream",
          "text": [
            "Printing outside the block\n"
          ],
          "name": "stdout"
        }
      ]
    },
    {
      "cell_type": "code",
      "metadata": {
        "id": "KnUeT8WXiPjf",
        "colab_type": "code",
        "colab": {
          "base_uri": "https://localhost:8080/",
          "height": 101
        },
        "outputId": "db6a59b4-ff96-4eab-fa3a-1290837a3209"
      },
      "source": [
        "for i in range(5):              #range is an exclusive and do not include the last value as index start from 0\n",
        "  print(i, i*i)"
      ],
      "execution_count": 44,
      "outputs": [
        {
          "output_type": "stream",
          "text": [
            "0 0\n",
            "1 1\n",
            "2 4\n",
            "3 9\n",
            "4 16\n"
          ],
          "name": "stdout"
        }
      ]
    },
    {
      "cell_type": "code",
      "metadata": {
        "id": "sNl-SF6giwFl",
        "colab_type": "code",
        "colab": {}
      },
      "source": [
        "range?"
      ],
      "execution_count": 29,
      "outputs": []
    },
    {
      "cell_type": "code",
      "metadata": {
        "id": "biKKq_vei9hv",
        "colab_type": "code",
        "colab": {
          "base_uri": "https://localhost:8080/",
          "height": 34
        },
        "outputId": "6997d6b2-7ef3-43ec-8a58-bd06afe47e0d"
      },
      "source": [
        "print(is_ios == False and num_of_speaker>2)"
      ],
      "execution_count": 47,
      "outputs": [
        {
          "output_type": "stream",
          "text": [
            "False\n"
          ],
          "name": "stdout"
        }
      ]
    },
    {
      "cell_type": "code",
      "metadata": {
        "id": "VPPYanHU663v",
        "colab_type": "code",
        "colab": {
          "base_uri": "https://localhost:8080/",
          "height": 101
        },
        "outputId": "a969c4e1-c58b-4ae5-a747-aba6ac74c8e4"
      },
      "source": [
        "i = 0\n",
        "while i <5:\n",
        "  print(i, i*i)\n",
        "  i +=1               #This is equivalent to i = i + 1\n"
      ],
      "execution_count": 48,
      "outputs": [
        {
          "output_type": "stream",
          "text": [
            "0 0\n",
            "1 1\n",
            "2 4\n",
            "3 9\n",
            "4 16\n"
          ],
          "name": "stdout"
        }
      ]
    },
    {
      "cell_type": "code",
      "metadata": {
        "id": "ylkeMHax8x8J",
        "colab_type": "code",
        "colab": {}
      },
      "source": [
        "def print_square(stop_val):\n",
        "  for i in range(stop_val):\n",
        "    print(i, i**2)"
      ],
      "execution_count": 49,
      "outputs": []
    },
    {
      "cell_type": "code",
      "metadata": {
        "id": "YP0xJGQ29S5d",
        "colab_type": "code",
        "colab": {
          "base_uri": "https://localhost:8080/",
          "height": 101
        },
        "outputId": "e31d45b5-53c4-4f4c-bdc2-bab0d65c547d"
      },
      "source": [
        "print_square(5)"
      ],
      "execution_count": 51,
      "outputs": [
        {
          "output_type": "stream",
          "text": [
            "0 0\n",
            "1 1\n",
            "2 4\n",
            "3 9\n",
            "4 16\n"
          ],
          "name": "stdout"
        }
      ]
    },
    {
      "cell_type": "code",
      "metadata": {
        "id": "5g3G2azQ9V8D",
        "colab_type": "code",
        "colab": {
          "base_uri": "https://localhost:8080/",
          "height": 34
        },
        "outputId": "c1f001d0-093b-4469-d3c4-6a9dd1f08cab"
      },
      "source": [
        "def sum_of_square(stop_val):\n",
        "  sum = 0\n",
        "  for i in range(stop_val):\n",
        "    sum += i ** 2\n",
        "  return sum\n",
        "sum_of_square(5)"
      ],
      "execution_count": 65,
      "outputs": [
        {
          "output_type": "execute_result",
          "data": {
            "text/plain": [
              "30"
            ]
          },
          "metadata": {
            "tags": []
          },
          "execution_count": 65
        }
      ]
    },
    {
      "cell_type": "code",
      "metadata": {
        "id": "zRjhYGo7Mu-7",
        "colab_type": "code",
        "colab": {
          "base_uri": "https://localhost:8080/",
          "height": 67
        },
        "outputId": "3b9a0078-71c0-41b7-cc15-c7835edd2d6e"
      },
      "source": [
        "def print_square_with_startval(stop_val, start_val=0):\n",
        "  \"\"\" Prints the square of a number starting from start_val(inclusive) and ending with stop_val(exclusive) \"\"\"\n",
        "  for i in range(start_val, stop_val):\n",
        "    print(i, i**2)\n",
        "\n",
        "print_square_with_startval(5, 2)\n"
      ],
      "execution_count": 68,
      "outputs": [
        {
          "output_type": "stream",
          "text": [
            "2 4\n",
            "3 9\n",
            "4 16\n"
          ],
          "name": "stdout"
        }
      ]
    },
    {
      "cell_type": "code",
      "metadata": {
        "id": "UfKF72HG94Oz",
        "colab_type": "code",
        "colab": {}
      },
      "source": [
        "print_square_with_startval?     #This is the help structure format"
      ],
      "execution_count": 69,
      "outputs": []
    },
    {
      "cell_type": "code",
      "metadata": {
        "id": "EOxA-ds3P3iq",
        "colab_type": "code",
        "colab": {}
      },
      "source": [
        ""
      ],
      "execution_count": null,
      "outputs": []
    }
  ]
}