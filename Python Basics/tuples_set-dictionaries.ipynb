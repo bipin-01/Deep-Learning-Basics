{
 "metadata": {
  "language_info": {
   "codemirror_mode": {
    "name": "ipython",
    "version": 3
   },
   "file_extension": ".py",
   "mimetype": "text/x-python",
   "name": "python",
   "nbconvert_exporter": "python",
   "pygments_lexer": "ipython3",
   "version": "3.7.7-final"
  },
  "orig_nbformat": 2,
  "kernelspec": {
   "name": "python3",
   "display_name": "Python 3"
  }
 },
 "nbformat": 4,
 "nbformat_minor": 2,
 "cells": [
  {
   "cell_type": "markdown",
   "metadata": {},
   "source": [
    "# Some concept on tuples"
   ]
  },
  {
   "cell_type": "code",
   "execution_count": null,
   "metadata": {},
   "outputs": [],
   "source": [
    "import time"
   ]
  },
  {
   "cell_type": "code",
   "execution_count": 1,
   "metadata": {
    "tags": []
   },
   "outputs": [
    {
     "output_type": "stream",
     "name": "stdout",
     "text": "('Samsung_s9', True, 4.5)\n"
    },
    {
     "output_type": "execute_result",
     "data": {
      "text/plain": "tuple"
     },
     "metadata": {},
     "execution_count": 1
    }
   ],
   "source": [
    "my_phone_tuple = ('Samsung_s9', True, 4.5)\n",
    "print(my_phone_tuple)\n",
    "type(my_phone_tuple)"
   ]
  },
  {
   "cell_type": "code",
   "execution_count": 13,
   "metadata": {
    "tags": []
   },
   "outputs": [
    {
     "output_type": "stream",
     "name": "stdout",
     "text": "10\n"
    }
   ],
   "source": [
    "# tuple contains a group of elements which can be of different types\n",
    "tpl1 = (10, -20, 15.5, \"vijay\", \"Marry\");\n",
    "# individual elements can be refrenced usding square brackets i.e indexing way\n",
    "print(tpl1[0])"
   ]
  },
  {
   "cell_type": "code",
   "execution_count": 3,
   "metadata": {
    "tags": []
   },
   "outputs": [
    {
     "output_type": "stream",
     "name": "stdout",
     "text": "Samsung_s9\nTrue\n4.5\n"
    }
   ],
   "source": [
    "for data in my_phone_tuple:\n",
    "    print(data)"
   ]
  },
  {
   "cell_type": "code",
   "execution_count": 4,
   "metadata": {},
   "outputs": [
    {
     "output_type": "error",
     "ename": "TypeError",
     "evalue": "'tuple' object does not support item assignment",
     "traceback": [
      "\u001b[1;31m---------------------------------------------------------------------------\u001b[0m",
      "\u001b[1;31mTypeError\u001b[0m                                 Traceback (most recent call last)",
      "\u001b[1;32m<ipython-input-4-9c6be0ab0c8f>\u001b[0m in \u001b[0;36m<module>\u001b[1;34m\u001b[0m\n\u001b[1;32m----> 1\u001b[1;33m \u001b[0mmy_phone_tuple\u001b[0m\u001b[1;33m[\u001b[0m\u001b[1;36m1\u001b[0m\u001b[1;33m]\u001b[0m \u001b[1;33m=\u001b[0m \u001b[1;36m4\u001b[0m\u001b[1;33m\u001b[0m\u001b[1;33m\u001b[0m\u001b[0m\n\u001b[0m",
      "\u001b[1;31mTypeError\u001b[0m: 'tuple' object does not support item assignment"
     ]
    }
   ],
   "source": [
    "# tuples are immutable\n",
    "my_phone_tuple[1] = 4               # in tuple items cannot be reassigned\n"
   ]
  },
  {
   "cell_type": "code",
   "execution_count": 9,
   "metadata": {},
   "outputs": [
    {
     "output_type": "stream",
     "text": "\u001b[1;31mDocstring:\u001b[0m\ntime() -> floating point number\n\nReturn the current time in seconds since the Epoch.\nFractions of a second may be present if the system clock provides them.\n\u001b[1;31mType:\u001b[0m      builtin_function_or_method\n"
    }
   ],
   "source": [
    "time.time?"
   ]
  },
  {
   "cell_type": "code",
   "execution_count": 12,
   "metadata": {
    "tags": []
   },
   "outputs": [
    {
     "output_type": "stream",
     "name": "stdout",
     "text": "Elapsed time is -0.362612247467041\n"
    }
   ],
   "source": [
    "# so, this is list operation\n",
    "my_list = list(range(100000000))\n",
    "tic1 = time.time()\n",
    "my_list_square = map(lambda i: i**2, my_list)\n",
    "toc1 = time.time()\n",
    "print(\"Elapsed time is\", tic1 - toc1)\n"
   ]
  },
  {
   "cell_type": "code",
   "execution_count": 10,
   "metadata": {
    "tags": []
   },
   "outputs": [
    {
     "output_type": "stream",
     "name": "stdout",
     "text": "Elapsed time is -0.20146656036376953\n"
    }
   ],
   "source": [
    "# we are now tuple operation\n",
    "# That just to indicate that tuple operation are relatively faster because the elements are immutable\n",
    "import time\n",
    "import os\n",
    "my_tuple = tuple(range(10000000))\n",
    "tic2 = time.time()\n",
    "my_tuple_square = map(lambda i: i**2, my_tuple)\n",
    "toc2 = time.time()\n",
    "print(\"Elapsed time is\", tic2 - toc2)\n"
   ]
  },
  {
   "cell_type": "markdown",
   "metadata": {},
   "source": [
    "# Moving to SETS and FROZENSET dataType"
   ]
  },
  {
   "cell_type": "code",
   "execution_count": 14,
   "metadata": {},
   "outputs": [
    {
     "output_type": "execute_result",
     "data": {
      "text/plain": "set"
     },
     "metadata": {},
     "execution_count": 14
    }
   ],
   "source": [
    "# A set is an unordered collection of elements\n",
    "# to create the set datatype, we should enter the elements seperated by commas inside curly braces\n",
    "s1  = {10, 20, 30, 40, 50, 20}\n",
    "type(s1)"
   ]
  },
  {
   "cell_type": "code",
   "execution_count": 15,
   "metadata": {
    "tags": []
   },
   "outputs": [
    {
     "output_type": "stream",
     "name": "stdout",
     "text": "{40, 10, 50, 20, 30}\n"
    }
   ],
   "source": [
    "# the set ignore the repeated elements and the elements maynot be in the same order\n",
    "print(s1)"
   ]
  },
  {
   "cell_type": "code",
   "execution_count": 16,
   "metadata": {
    "tags": []
   },
   "outputs": [
    {
     "output_type": "stream",
     "name": "stdout",
     "text": "{'h', 'o', 'e', 'l', 'H'}\n"
    }
   ],
   "source": [
    "# lets know more about sets\n",
    "ch = set(\"Helloh\")          # 'l' was repeated twice,but set only print elements atmost one time\n",
    "print(ch)"
   ]
  },
  {
   "cell_type": "code",
   "execution_count": 18,
   "metadata": {},
   "outputs": [
    {
     "output_type": "error",
     "ename": "TypeError",
     "evalue": "'set' object is not subscriptable",
     "traceback": [
      "\u001b[1;31m---------------------------------------------------------------------------\u001b[0m",
      "\u001b[1;31mTypeError\u001b[0m                                 Traceback (most recent call last)",
      "\u001b[1;32m<ipython-input-18-16133f37c389>\u001b[0m in \u001b[0;36m<module>\u001b[1;34m\u001b[0m\n\u001b[0;32m      1\u001b[0m \u001b[1;31m# we can do the normal indexing and slicing operation in set\u001b[0m\u001b[1;33m\u001b[0m\u001b[1;33m\u001b[0m\u001b[1;33m\u001b[0m\u001b[0m\n\u001b[1;32m----> 2\u001b[1;33m \u001b[0mch\u001b[0m\u001b[1;33m[\u001b[0m\u001b[1;36m0\u001b[0m\u001b[1;33m]\u001b[0m\u001b[1;33m\u001b[0m\u001b[1;33m\u001b[0m\u001b[0m\n\u001b[0m",
      "\u001b[1;31mTypeError\u001b[0m: 'set' object is not subscriptable"
     ]
    }
   ],
   "source": [
    "# we cannot do the normal indexing and slicing operation in set\n",
    "ch[0]"
   ]
  },
  {
   "cell_type": "code",
   "execution_count": 19,
   "metadata": {},
   "outputs": [],
   "source": [
    "# but we can add elements to the set through update method\n",
    "ch.update([70, 80, \"a\"])"
   ]
  },
  {
   "cell_type": "code",
   "execution_count": 20,
   "metadata": {
    "tags": []
   },
   "outputs": [
    {
     "output_type": "stream",
     "name": "stdout",
     "text": "{70, 'h', 'o', 80, 'a', 'e', 'l', 'H'}\n"
    }
   ],
   "source": [
    "print(ch)"
   ]
  },
  {
   "cell_type": "code",
   "execution_count": 21,
   "metadata": {
    "tags": []
   },
   "outputs": [
    {
     "output_type": "stream",
     "name": "stdout",
     "text": "{70, 'h', 'o', 80, 'a', 'l', 'H'}\n"
    }
   ],
   "source": [
    "# similarly the remove operation can also be used for set\n",
    "ch.remove('e')\n",
    "print(ch)"
   ]
  },
  {
   "cell_type": "code",
   "execution_count": 23,
   "metadata": {
    "tags": []
   },
   "outputs": [
    {
     "output_type": "stream",
     "name": "stdout",
     "text": "frozenset({100, 70, 40, 90, 60, 30})\n"
    }
   ],
   "source": [
    "#frozensets are similar to set but they are mutable\n",
    "# declared with keyword frozensets\n",
    "s2 = {30, 40, 60, 70, 90, 90, 100, 90, 30}\n",
    "print(frozenset(s2))"
   ]
  },
  {
   "cell_type": "code",
   "execution_count": 24,
   "metadata": {},
   "outputs": [
    {
     "output_type": "execute_result",
     "data": {
      "text/plain": "set"
     },
     "metadata": {},
     "execution_count": 24
    }
   ],
   "source": [
    "type(s2)\n"
   ]
  },
  {
   "cell_type": "markdown",
   "metadata": {},
   "source": [
    "# Dictionaries concept in python"
   ]
  },
  {
   "cell_type": "code",
   "execution_count": 25,
   "metadata": {
    "tags": []
   },
   "outputs": [
    {
     "output_type": "stream",
     "name": "stdout",
     "text": "{'brand': 'Ford', 'model': 'Mustang', 'year': 1964}\n"
    }
   ],
   "source": [
    "# concept depends on mapping key-value pair\n",
    "# dictionary are written between curly braces\n",
    "dictionary1 = {\n",
    "    \"brand\": \"Ford\",\n",
    "    \"model\": \"Mustang\",\n",
    "    \"year\" : 1964\n",
    "}\n",
    "print(dictionary1)"
   ]
  },
  {
   "cell_type": "code",
   "execution_count": 33,
   "metadata": {
    "tags": []
   },
   "outputs": [
    {
     "output_type": "stream",
     "name": "stdout",
     "text": "Mustang\n"
    }
   ],
   "source": [
    "# can access the dictionary be accessing to its key name\n",
    "print(dictionary1[\"model\"])"
   ]
  },
  {
   "cell_type": "code",
   "execution_count": 32,
   "metadata": {
    "tags": []
   },
   "outputs": [
    {
     "output_type": "stream",
     "name": "stdout",
     "text": "Mustang\n"
    }
   ],
   "source": [
    "# the similarthing can also be done through get method\n",
    "print(dictionary1.get(\"model\"))\n"
   ]
  },
  {
   "cell_type": "code",
   "execution_count": 34,
   "metadata": {
    "tags": []
   },
   "outputs": [
    {
     "output_type": "stream",
     "name": "stdout",
     "text": "{'brand': 'Ford', 'model': 'Mustang', 'year': 2018}\n"
    }
   ],
   "source": [
    "# cchanging values of the specific item by refering to its key name\n",
    "dictionary1[\"year\"] = 2018\n",
    "print(dictionary1)"
   ]
  },
  {
   "cell_type": "code",
   "execution_count": 35,
   "metadata": {
    "tags": []
   },
   "outputs": [
    {
     "output_type": "stream",
     "name": "stdout",
     "text": "brand\nmodel\nyear\n"
    }
   ],
   "source": [
    "# this will only print the keys name\n",
    "for x in dictionary1:\n",
    "    print(x)"
   ]
  },
  {
   "cell_type": "code",
   "execution_count": 38,
   "metadata": {
    "tags": []
   },
   "outputs": [
    {
     "output_type": "stream",
     "name": "stdout",
     "text": "Ford\nMustang\n2018\n"
    }
   ],
   "source": [
    "# we can print the vlues name bu\n",
    "for x in dictionary1:\n",
    "    print(dictionary1[x])"
   ]
  },
  {
   "cell_type": "code",
   "execution_count": 40,
   "metadata": {
    "tags": []
   },
   "outputs": [
    {
     "output_type": "stream",
     "name": "stdout",
     "text": "['brand', 'Ford']\n['model', 'Mustang']\n['year', 2018]\n"
    }
   ],
   "source": [
    "# we can combine both as\n",
    "for x in dictionary1:\n",
    "    print(list((x, dictionary1[x])))"
   ]
  },
  {
   "cell_type": "code",
   "execution_count": 41,
   "metadata": {
    "tags": []
   },
   "outputs": [
    {
     "output_type": "stream",
     "name": "stdout",
     "text": "Ford\nMustang\n2018\n"
    }
   ],
   "source": [
    "# we can use the value method to return the values of a dictionary\n",
    "for x in dictionary1.values():\n",
    "    print(x)"
   ]
  },
  {
   "cell_type": "code",
   "execution_count": 43,
   "metadata": {
    "tags": []
   },
   "outputs": [
    {
     "output_type": "stream",
     "name": "stdout",
     "text": "brand Ford\nmodel Mustang\nyear 2018\n"
    }
   ],
   "source": [
    "# loop through both keys and values, by using the items() method\n",
    "for x, y in dictionary1.items():\n",
    "    print(x, y)"
   ]
  },
  {
   "cell_type": "code",
   "execution_count": 47,
   "metadata": {
    "tags": []
   },
   "outputs": [
    {
     "output_type": "stream",
     "name": "stdout",
     "text": "brand feature is available for information\nmodel feature is available for information\nbattery_type feature not available for information\n"
    }
   ],
   "source": [
    "feature = [\"brand\", \"model\", \"battery_type\"]\n",
    "for x in feature:\n",
    "    if x in dictionary1:\n",
    "        print(x, \"feature is available for information\")\n",
    "    else:\n",
    "        print(x,\"feature not available for information\")"
   ]
  },
  {
   "cell_type": "code",
   "execution_count": 50,
   "metadata": {
    "tags": []
   },
   "outputs": [
    {
     "output_type": "stream",
     "name": "stdout",
     "text": "2020\n"
    }
   ],
   "source": [
    "if \"year\" in dictionary1:\n",
    "   dictionary1[\"year\"] +=1\n",
    "print(dictionary1[\"year\"])"
   ]
  },
  {
   "cell_type": "code",
   "execution_count": 51,
   "metadata": {},
   "outputs": [
    {
     "output_type": "execute_result",
     "data": {
      "text/plain": "3"
     },
     "metadata": {},
     "execution_count": 51
    }
   ],
   "source": [
    "# printing the length of the dictionary\n",
    "len(dictionary1)"
   ]
  },
  {
   "cell_type": "markdown",
   "metadata": {},
   "source": [
    "# Classic pair finding problem\n",
    "# Trying to do the classic socks pair finding problem through dictionary"
   ]
  },
  {
   "cell_type": "code",
   "execution_count": 61,
   "metadata": {
    "tags": []
   },
   "outputs": [
    {
     "output_type": "stream",
     "name": "stdout",
     "text": "{'R': 4, 'B': 2, 'G': 1, 'Y': 3}\n"
    }
   ],
   "source": [
    "# In first part we try to know the total numbers of socks for each color\n",
    "# then we can find the pair for each col_socks as pair = total // 2\n",
    "color_socks = [\"R\", \"B\", \"G\", \"R\", \"Y\", \"R\", \"B\", \"Y\", \"Y\", \"R\"]\n",
    "mydict = {}\n",
    "for x in color_socks:\n",
    "    if x in mydict:\n",
    "        mydict[x]+=1\n",
    "    else:\n",
    "        mydict[x]=1\n",
    "print(mydict)"
   ]
  },
  {
   "cell_type": "code",
   "execution_count": 62,
   "metadata": {
    "tags": []
   },
   "outputs": [
    {
     "output_type": "stream",
     "name": "stdout",
     "text": "There are 2 pairs of socks for R color socks\nThere are 1 pairs of socks for B color socks\nThere is no pair for the G color socks\nThere are 1 pairs of socks for Y color socks\n"
    }
   ],
   "source": [
    "for x in mydict:\n",
    "    if(mydict[x]==1):\n",
    "        print(\"There is no pair for the\", x, \"color socks\")\n",
    "    else:\n",
    "        print(\"There are\", mydict[x]//2,\"pairs of socks for\", x, \"color socks\")"
   ]
  },
  {
   "cell_type": "code",
   "execution_count": null,
   "metadata": {},
   "outputs": [],
   "source": []
  }
 ]
}