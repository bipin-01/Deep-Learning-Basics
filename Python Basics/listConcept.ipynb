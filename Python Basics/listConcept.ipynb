{
 "metadata": {
  "language_info": {
   "codemirror_mode": {
    "name": "ipython",
    "version": 3
   },
   "file_extension": ".py",
   "mimetype": "text/x-python",
   "name": "python",
   "nbconvert_exporter": "python",
   "pygments_lexer": "ipython3",
   "version": "3.7.7-final"
  },
  "orig_nbformat": 2,
  "kernelspec": {
   "name": "python3",
   "display_name": "Python 3"
  }
 },
 "nbformat": 4,
 "nbformat_minor": 2,
 "cells": [
  {
   "cell_type": "markdown",
   "metadata": {},
   "source": [
    "# The $/LIST$ CONCEPT\n"
   ]
  },
  {
   "cell_type": "code",
   "execution_count": 4,
   "metadata": {},
   "outputs": [],
   "source": [
    "name = \"Samsung S9+\"\n",
    "is_andriod = True\n",
    "screen_size = 4.5 "
   ]
  },
  {
   "cell_type": "code",
   "execution_count": 5,
   "metadata": {},
   "outputs": [],
   "source": [
    "my_phone = [name, is_andriod, screen_size]"
   ]
  },
  {
   "cell_type": "code",
   "execution_count": 6,
   "metadata": {},
   "outputs": [
    {
     "output_type": "execute_result",
     "data": {
      "text/plain": "list"
     },
     "metadata": {},
     "execution_count": 6
    }
   ],
   "source": [
    "type(my_phone)"
   ]
  },
  {
   "cell_type": "code",
   "execution_count": 7,
   "metadata": {
    "tags": []
   },
   "outputs": [
    {
     "output_type": "stream",
     "name": "stdout",
     "text": "['Samsung S9+', True, 4.5]\n"
    }
   ],
   "source": [
    "print(my_phone)"
   ]
  },
  {
   "cell_type": "code",
   "execution_count": 9,
   "metadata": {},
   "outputs": [
    {
     "output_type": "execute_result",
     "data": {
      "text/plain": "[True, 4.5]"
     },
     "metadata": {},
     "execution_count": 9
    }
   ],
   "source": [
    "# can access either individual value or range of values through index concept\n",
    "my_phone[1:3]"
   ]
  },
  {
   "cell_type": "code",
   "execution_count": 10,
   "metadata": {},
   "outputs": [
    {
     "output_type": "execute_result",
     "data": {
      "text/plain": "str"
     },
     "metadata": {},
     "execution_count": 10
    }
   ],
   "source": [
    "type(my_phone[0])"
   ]
  },
  {
   "cell_type": "code",
   "execution_count": 13,
   "metadata": {
    "tags": []
   },
   "outputs": [
    {
     "output_type": "stream",
     "name": "stdout",
     "text": "['Samsung S9+', True, 4.5]\n"
    }
   ],
   "source": [
    "my_dad_phone = my_phone                 # this is a shallow copy only\n",
    "print(my_dad_phone)"
   ]
  },
  {
   "cell_type": "code",
   "execution_count": 14,
   "metadata": {
    "tags": []
   },
   "outputs": [
    {
     "output_type": "stream",
     "name": "stdout",
     "text": "['Samsung S9+', True, 6]\n"
    }
   ],
   "source": [
    "# changing the value of list through indexing concept\n",
    "my_phone[-1] = 6                       # -1 indicate the last index in the list\n",
    "print(my_dad_phone)                    # as, we can see the changes made to my_phone is reflected to my_dad_phone too"
   ]
  },
  {
   "cell_type": "code",
   "execution_count": 18,
   "metadata": {
    "tags": []
   },
   "outputs": [
    {
     "output_type": "stream",
     "name": "stdout",
     "text": "['Samsung S9+', True, 6]\n"
    }
   ],
   "source": [
    "# So, lets try to make deep copy\n",
    "my_dad_phone = list(my_phone)        \n",
    "# or else we can also do   my_dad_phone =[:]\n",
    "print(my_dad_phone)"
   ]
  },
  {
   "cell_type": "code",
   "execution_count": 19,
   "metadata": {
    "tags": []
   },
   "outputs": [
    {
     "output_type": "stream",
     "name": "stdout",
     "text": "['Samsung S9+', True, 6]\n"
    }
   ],
   "source": [
    "# So, if I do change in my phone it will not be reflected to my_dad_phone\n",
    "my_phone[2] = 4.3             \n",
    "print(my_dad_phone)"
   ]
  },
  {
   "cell_type": "markdown",
   "metadata": {},
   "source": [
    "# Various operation on list"
   ]
  },
  {
   "cell_type": "code",
   "execution_count": 20,
   "metadata": {
    "tags": []
   },
   "outputs": [
    {
     "output_type": "stream",
     "name": "stdout",
     "text": "['Samsung S9+', True, 4.3, '3G']\n"
    }
   ],
   "source": [
    "# So, we can perform various operation in our list \n",
    "# So, lets add new feature to our list\n",
    "my_phone.append(\"3G\")                   # append the argument passed, to the end of the list mention\n",
    "print(my_phone)                         # append takes only one argument        "
   ]
  },
  {
   "cell_type": "code",
   "execution_count": 22,
   "metadata": {},
   "outputs": [
    {
     "output_type": "execute_result",
     "data": {
      "text/plain": "4"
     },
     "metadata": {},
     "execution_count": 22
    }
   ],
   "source": [
    "# we can find the length of the list through len() function\n",
    "# use to find the number of elements in the list\n",
    "len(my_phone)"
   ]
  },
  {
   "cell_type": "code",
   "execution_count": 24,
   "metadata": {
    "tags": []
   },
   "outputs": [
    {
     "output_type": "stream",
     "name": "stdout",
     "text": "['Samsung S9+', True, 4.3, '3G', 'Dual sim', 'ecomomical', 3500]\n"
    }
   ],
   "source": [
    "samsungS9_some_prefs = [\"Dual sim\", \"ecomomical\", 3500]\n",
    "my_phone = my_phone + samsungS9_some_prefs            # concatenation concept\n",
    "print(my_phone)"
   ]
  },
  {
   "cell_type": "code",
   "execution_count": 58,
   "metadata": {
    "tags": []
   },
   "outputs": [
    {
     "output_type": "stream",
     "name": "stdout",
     "text": "Samsung S9+ True 4.3 3G Dual sim ecomomical 3500"
    }
   ],
   "source": [
    "# printing and exploring individual items of the list\n",
    "for data in my_phone:\n",
    "    print(data, end=\" \")"
   ]
  },
  {
   "cell_type": "code",
   "execution_count": 74,
   "metadata": {
    "tags": []
   },
   "outputs": [
    {
     "output_type": "stream",
     "name": "stdout",
     "text": "[1, 3, 4, 6, 8, 9, 99]\n"
    }
   ],
   "source": [
    "#we can also sort our list\n",
    "list1 = [3, 4, 6, 99,8 ,9, 1]\n",
    "list1.sort()\n",
    "print(list1)"
   ]
  },
  {
   "cell_type": "code",
   "execution_count": 79,
   "metadata": {
    "tags": []
   },
   "outputs": [
    {
     "output_type": "stream",
     "name": "stdout",
     "text": "[1, 3, 4, 6, 99]\n"
    }
   ],
   "source": [
    "#removing element from the list\n",
    "list1.remove(-1)\n",
    "print(list1)"
   ]
  },
  {
   "cell_type": "code",
   "execution_count": 81,
   "metadata": {
    "tags": []
   },
   "outputs": [
    {
     "output_type": "stream",
     "name": "stdout",
     "text": "[1, 3, 4, 100, 6, 100, 99]\n"
    }
   ],
   "source": [
    "list1.insert(3, 100)\n",
    "print(list1)"
   ]
  },
  {
   "cell_type": "code",
   "execution_count": 82,
   "metadata": {},
   "outputs": [
    {
     "output_type": "execute_result",
     "data": {
      "text/plain": "2"
     },
     "metadata": {},
     "execution_count": 82
    }
   ],
   "source": [
    "# counting the number of occurences of a certain element in the list\n",
    "list1.count(100)"
   ]
  },
  {
   "cell_type": "code",
   "execution_count": 86,
   "metadata": {
    "tags": []
   },
   "outputs": [
    {
     "output_type": "stream",
     "name": "stdout",
     "text": "[1, 3, 4, 100, 6, 100, 99]\n"
    }
   ],
   "source": [
    "#reversing the lies\n",
    "list1.reverse()\n",
    "print(list1)"
   ]
  },
  {
   "cell_type": "code",
   "execution_count": 87,
   "metadata": {},
   "outputs": [
    {
     "output_type": "execute_result",
     "data": {
      "text/plain": "99"
     },
     "metadata": {},
     "execution_count": 87
    }
   ],
   "source": [
    "# poping the elements in the list\n",
    "list1.pop()"
   ]
  },
  {
   "cell_type": "markdown",
   "metadata": {},
   "source": [
    "\n",
    "\n",
    "# practice session"
   ]
  },
  {
   "cell_type": "code",
   "execution_count": 32,
   "metadata": {
    "tags": []
   },
   "outputs": [
    {
     "output_type": "stream",
     "name": "stdout",
     "text": "(88, 55, 99)\n"
    }
   ],
   "source": [
    "tuple1=(99,55,88,11,66,22,77)\n",
    "print(tuple1[2::-1])\n"
   ]
  },
  {
   "cell_type": "code",
   "execution_count": 40,
   "metadata": {
    "tags": []
   },
   "outputs": [
    {
     "output_type": "stream",
     "name": "stdout",
     "text": "4\n"
    }
   ],
   "source": [
    " x =int(17/2%2*3*3)\n",
    " print(x)\n"
   ]
  },
  {
   "cell_type": "code",
   "execution_count": 34,
   "metadata": {},
   "outputs": [
    {
     "output_type": "execute_result",
     "data": {
      "text/plain": "14.0"
     },
     "metadata": {},
     "execution_count": 34
    }
   ],
   "source": [
    "import math\n",
    "math.sqrt(196)"
   ]
  },
  {
   "cell_type": "code",
   "execution_count": 35,
   "metadata": {},
   "outputs": [
    {
     "output_type": "execute_result",
     "data": {
      "text/plain": "4"
     },
     "metadata": {},
     "execution_count": 35
    }
   ],
   "source": [
    "def validate():\n",
    "    sample = [9,8,7,6,5,4,3,2,1]\n",
    "    test= sample[sample[sample[3]-2]-1]\n",
    "    return sample.index(test)\n",
    "validate()\n",
    "\n"
   ]
  },
  {
   "cell_type": "code",
   "execution_count": 36,
   "metadata": {
    "tags": []
   },
   "outputs": [
    {
     "output_type": "stream",
     "name": "stdout",
     "text": "learn\npython\neasily\n"
    }
   ],
   "source": [
    "tuple1=(\"learn\",\"python\",\"easily\")\n",
    "for loop in tuple1:\n",
    "    print(loop)\n",
    " "
   ]
  },
  {
   "cell_type": "code",
   "execution_count": 43,
   "metadata": {
    "tags": []
   },
   "outputs": [
    {
     "output_type": "stream",
     "name": "stdout",
     "text": "3\n"
    }
   ],
   "source": [
    "import random\n",
    "sample=[1,2,3,4,5,6,7,8,9]\n",
    "random.shuffle(sample)\n",
    "print(sample[0])\n",
    "\n"
   ]
  },
  {
   "cell_type": "code",
   "execution_count": 44,
   "metadata": {
    "tags": []
   },
   "outputs": [
    {
     "output_type": "stream",
     "name": "stdout",
     "text": "6\n"
    }
   ],
   "source": [
    "import random\n",
    "sample=[1,2,3,4,5,6,7,8,9]\n",
    "random.shuffle(sample)\n",
    "print(sample[0])\n",
    "\n"
   ]
  },
  {
   "cell_type": "code",
   "execution_count": 47,
   "metadata": {},
   "outputs": [
    {
     "output_type": "execute_result",
     "data": {
      "text/plain": "15"
     },
     "metadata": {},
     "execution_count": 47
    }
   ],
   "source": [
    "999%82"
   ]
  },
  {
   "cell_type": "code",
   "execution_count": 48,
   "metadata": {},
   "outputs": [
    {
     "output_type": "execute_result",
     "data": {
      "text/plain": "0.5"
     },
     "metadata": {},
     "execution_count": 48
    }
   ],
   "source": [
    "8.5%2"
   ]
  },
  {
   "cell_type": "code",
   "execution_count": 50,
   "metadata": {},
   "outputs": [
    {
     "output_type": "execute_result",
     "data": {
      "text/plain": "4.5"
     },
     "metadata": {},
     "execution_count": 50
    }
   ],
   "source": [
    "0.5*3*3\n"
   ]
  },
  {
   "cell_type": "code",
   "execution_count": 54,
   "metadata": {},
   "outputs": [
    {
     "output_type": "execute_result",
     "data": {
      "text/plain": "1.5549999999999997"
     },
     "metadata": {},
     "execution_count": 54
    }
   ],
   "source": [
    "import math \n",
    "math.fmod(4.555, 3)"
   ]
  },
  {
   "cell_type": "code",
   "execution_count": 57,
   "metadata": {
    "tags": []
   },
   "outputs": [
    {
     "output_type": "stream",
     "name": "stdout",
     "text": "4\n"
    }
   ],
   "source": [
    "x =int(17/2%2*3*3)\n",
    "print(x)\n"
   ]
  },
  {
   "cell_type": "code",
   "execution_count": null,
   "metadata": {},
   "outputs": [],
   "source": []
  }
 ]
}