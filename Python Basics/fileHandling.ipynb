{
  "nbformat": 4,
  "nbformat_minor": 0,
  "metadata": {
    "colab": {
      "name": "fileHandling.ipynb",
      "provenance": []
    },
    "kernelspec": {
      "name": "python3",
      "display_name": "Python 3"
    }
  },
  "cells": [
    {
      "cell_type": "code",
      "metadata": {
        "id": "7Z4Si6vUT--v",
        "colab_type": "code",
        "colab": {
          "base_uri": "https://localhost:8080/",
          "height": 34
        },
        "outputId": "3720d781-c2a2-49a8-d0a7-46b59d0156de"
      },
      "source": [
        "!ls"
      ],
      "execution_count": null,
      "outputs": [
        {
          "output_type": "stream",
          "text": [
            "sample_data\n"
          ],
          "name": "stdout"
        }
      ]
    },
    {
      "cell_type": "markdown",
      "metadata": {
        "id": "adRJANlsWsTe",
        "colab_type": "text"
      },
      "source": [
        "# New Section"
      ]
    },
    {
      "cell_type": "code",
      "metadata": {
        "id": "NHUEkvfRV46g",
        "colab_type": "code",
        "colab": {}
      },
      "source": [
        "file = open(\"data.csv\", \"r\")                  # opening the file in read mode\n",
        "s = file.readline()                           # prints the first line of the file\n",
        "print(s)"
      ],
      "execution_count": null,
      "outputs": []
    },
    {
      "cell_type": "code",
      "metadata": {
        "id": "SgqxyhI-XIUg",
        "colab_type": "code",
        "colab": {}
      },
      "source": [
        "print(s.split(\",\"))                          # output is list"
      ],
      "execution_count": null,
      "outputs": []
    },
    {
      "cell_type": "code",
      "metadata": {
        "id": "Tw7ZPJhnXsoT",
        "colab_type": "code",
        "colab": {}
      },
      "source": [
        "file.close()                                 # closing the file"
      ],
      "execution_count": 20,
      "outputs": []
    },
    {
      "cell_type": "code",
      "metadata": {
        "id": "DzXyn1SkX4_T",
        "colab_type": "code",
        "colab": {}
      },
      "source": [
        "with open('data.csv', \"r\") as file:\n",
        "  print(file.readline())                     # automatically does the closing part after the data has been read"
      ],
      "execution_count": null,
      "outputs": []
    },
    {
      "cell_type": "code",
      "metadata": {
        "id": "JqdEKINNYNJy",
        "colab_type": "code",
        "colab": {}
      },
      "source": [
        "with open('data.csv', \"r\") as file:\n",
        "  print(file.read())                         # reads every line of the file\n"
      ],
      "execution_count": null,
      "outputs": []
    },
    {
      "cell_type": "code",
      "metadata": {
        "id": "bCZRJ2HPZB7S",
        "colab_type": "code",
        "colab": {
          "base_uri": "https://localhost:8080/",
          "height": 51
        },
        "outputId": "cb4017e2-6077-481c-e2e9-253477cbd6bf"
      },
      "source": [
        "with open('data.csv', \"r\") as file:\n",
        "  for line in file:\n",
        "    for word in line.split(\",\"):\n",
        "      print(word)\n",
        "    print(\"*****************\")"
      ],
      "execution_count": 26,
      "outputs": [
        {
          "output_type": "stream",
          "text": [
            "welcome to python programming for deep learning*********abcd***********welcome to python programming for deep learning\n",
            "*****************\n"
          ],
          "name": "stdout"
        }
      ]
    },
    {
      "cell_type": "code",
      "metadata": {
        "id": "v4fnyfYkbKVp",
        "colab_type": "code",
        "colab": {}
      },
      "source": [
        "with open(\"data.csv\", \"a\") as file:\n",
        "  file.write(\"*********abcd***********welcome to python programming for deep learning\")"
      ],
      "execution_count": 29,
      "outputs": []
    },
    {
      "cell_type": "code",
      "metadata": {
        "id": "vkqM6baBbZLB",
        "colab_type": "code",
        "colab": {
          "base_uri": "https://localhost:8080/",
          "height": 35
        },
        "outputId": "9d804e3e-89d3-4895-d896-b755476fc8ae"
      },
      "source": [
        "file.mode                    # returns the access mode with which file was open"
      ],
      "execution_count": 30,
      "outputs": [
        {
          "output_type": "execute_result",
          "data": {
            "application/vnd.google.colaboratory.intrinsic+json": {
              "type": "string"
            },
            "text/plain": [
              "'a'"
            ]
          },
          "metadata": {
            "tags": []
          },
          "execution_count": 30
        }
      ]
    },
    {
      "cell_type": "code",
      "metadata": {
        "id": "SC5NyPevw-hu",
        "colab_type": "code",
        "colab": {
          "base_uri": "https://localhost:8080/",
          "height": 35
        },
        "outputId": "c69b5ac5-40c0-4047-9721-615bdd466b8e"
      },
      "source": [
        "file.name                   # returns the name of the  file"
      ],
      "execution_count": 31,
      "outputs": [
        {
          "output_type": "execute_result",
          "data": {
            "application/vnd.google.colaboratory.intrinsic+json": {
              "type": "string"
            },
            "text/plain": [
              "'data.csv'"
            ]
          },
          "metadata": {
            "tags": []
          },
          "execution_count": 31
        }
      ]
    },
    {
      "cell_type": "code",
      "metadata": {
        "id": "CGYkgvH7xRr0",
        "colab_type": "code",
        "colab": {}
      },
      "source": [
        ""
      ],
      "execution_count": null,
      "outputs": []
    }
  ]
}